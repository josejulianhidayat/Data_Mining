{
  "nbformat": 4,
  "nbformat_minor": 0,
  "metadata": {
    "colab": {
      "provenance": [],
      "authorship_tag": "ABX9TyNEFtelOeZpfoZkxwkIYz4V",
      "include_colab_link": true
    },
    "kernelspec": {
      "name": "python3",
      "display_name": "Python 3"
    },
    "language_info": {
      "name": "python"
    }
  },
  "cells": [
    {
      "cell_type": "markdown",
      "metadata": {
        "id": "view-in-github",
        "colab_type": "text"
      },
      "source": [
        "<a href=\"https://colab.research.google.com/github/josejulianhidayat/Data_Mining/blob/main/MarketBasketAnalysis_AsosiasiProduct.ipynb\" target=\"_parent\"><img src=\"https://colab.research.google.com/assets/colab-badge.svg\" alt=\"Open In Colab\"/></a>"
      ]
    },
    {
      "cell_type": "markdown",
      "source": [
        "# MARKET BASKET ANALYSIS\n",
        "\n",
        "**Tutorial By Jose Julian Hidayat**\n",
        "\n"
      ],
      "metadata": {
        "id": "TfS_nQFNIt7f"
      }
    },
    {
      "cell_type": "markdown",
      "source": [
        "Market Basket Analysis (Asosiasi Produk) — ini teknik klasik data mining buat cari pola pembelian bersama antar produk. Biasanya digunakan untuk:\n",
        "\n",
        "\"Orang yang beli A juga sering beli B.\""
      ],
      "metadata": {
        "id": "Z7ZQepklInzC"
      }
    },
    {
      "cell_type": "markdown",
      "source": [
        "Menemukan aturan asosiasi seperti:\n",
        "\n",
        "Jika beli Printer, maka kemungkinan beli Paper."
      ],
      "metadata": {
        "id": "egtyXOeiIpkN"
      }
    },
    {
      "cell_type": "code",
      "execution_count": 1,
      "metadata": {
        "colab": {
          "base_uri": "https://localhost:8080/"
        },
        "id": "UFWJuaKhIAHK",
        "outputId": "fbc535b7-f7a8-4a82-8db8-94cba28bbf07"
      },
      "outputs": [
        {
          "output_type": "stream",
          "name": "stdout",
          "text": [
            "Requirement already satisfied: mlxtend in /usr/local/lib/python3.11/dist-packages (0.23.4)\n",
            "Requirement already satisfied: scipy>=1.2.1 in /usr/local/lib/python3.11/dist-packages (from mlxtend) (1.14.1)\n",
            "Requirement already satisfied: numpy>=1.16.2 in /usr/local/lib/python3.11/dist-packages (from mlxtend) (2.0.2)\n",
            "Requirement already satisfied: pandas>=0.24.2 in /usr/local/lib/python3.11/dist-packages (from mlxtend) (2.2.2)\n",
            "Requirement already satisfied: scikit-learn>=1.3.1 in /usr/local/lib/python3.11/dist-packages (from mlxtend) (1.6.1)\n",
            "Requirement already satisfied: matplotlib>=3.0.0 in /usr/local/lib/python3.11/dist-packages (from mlxtend) (3.10.0)\n",
            "Requirement already satisfied: joblib>=0.13.2 in /usr/local/lib/python3.11/dist-packages (from mlxtend) (1.4.2)\n",
            "Requirement already satisfied: contourpy>=1.0.1 in /usr/local/lib/python3.11/dist-packages (from matplotlib>=3.0.0->mlxtend) (1.3.1)\n",
            "Requirement already satisfied: cycler>=0.10 in /usr/local/lib/python3.11/dist-packages (from matplotlib>=3.0.0->mlxtend) (0.12.1)\n",
            "Requirement already satisfied: fonttools>=4.22.0 in /usr/local/lib/python3.11/dist-packages (from matplotlib>=3.0.0->mlxtend) (4.56.0)\n",
            "Requirement already satisfied: kiwisolver>=1.3.1 in /usr/local/lib/python3.11/dist-packages (from matplotlib>=3.0.0->mlxtend) (1.4.8)\n",
            "Requirement already satisfied: packaging>=20.0 in /usr/local/lib/python3.11/dist-packages (from matplotlib>=3.0.0->mlxtend) (24.2)\n",
            "Requirement already satisfied: pillow>=8 in /usr/local/lib/python3.11/dist-packages (from matplotlib>=3.0.0->mlxtend) (11.1.0)\n",
            "Requirement already satisfied: pyparsing>=2.3.1 in /usr/local/lib/python3.11/dist-packages (from matplotlib>=3.0.0->mlxtend) (3.2.1)\n",
            "Requirement already satisfied: python-dateutil>=2.7 in /usr/local/lib/python3.11/dist-packages (from matplotlib>=3.0.0->mlxtend) (2.8.2)\n",
            "Requirement already satisfied: pytz>=2020.1 in /usr/local/lib/python3.11/dist-packages (from pandas>=0.24.2->mlxtend) (2025.1)\n",
            "Requirement already satisfied: tzdata>=2022.7 in /usr/local/lib/python3.11/dist-packages (from pandas>=0.24.2->mlxtend) (2025.1)\n",
            "Requirement already satisfied: threadpoolctl>=3.1.0 in /usr/local/lib/python3.11/dist-packages (from scikit-learn>=1.3.1->mlxtend) (3.6.0)\n",
            "Requirement already satisfied: six>=1.5 in /usr/local/lib/python3.11/dist-packages (from python-dateutil>=2.7->matplotlib>=3.0.0->mlxtend) (1.17.0)\n"
          ]
        }
      ],
      "source": [
        "pip install mlxtend\n"
      ]
    },
    {
      "cell_type": "markdown",
      "source": [
        "Kita perlu pivot data agar setiap transaksi (Order ID) jadi 1 baris, dan kolom-kolom berisi produk (dengan 1/0 jika dibeli)."
      ],
      "metadata": {
        "id": "6jd9vFagI-dm"
      }
    },
    {
      "cell_type": "code",
      "source": [
        "import pandas as pd\n",
        "from mlxtend.frequent_patterns import apriori, association_rules\n",
        "\n",
        "# Load data\n",
        "df = pd.read_excel(\"Global_Superstore2.xlsx\")\n",
        "\n",
        "# Gunakan Order ID dan Product Name\n",
        "basket_df = df.groupby(['Order ID', 'Product Name'])['Quantity'].sum().unstack().fillna(0)\n",
        "\n",
        "# Ubah ke format 1 (jika produk dibeli) dan 0 (jika tidak)\n",
        "basket_df = basket_df.astype(bool).astype(int)\n",
        "\n"
      ],
      "metadata": {
        "id": "JmKx9wOlI73P"
      },
      "execution_count": 3,
      "outputs": []
    },
    {
      "cell_type": "markdown",
      "source": [
        " **Jalankan Apriori untuk cari frequent itemsets**"
      ],
      "metadata": {
        "id": "0qwT6CWaJeZL"
      }
    },
    {
      "cell_type": "code",
      "source": [
        "from mlxtend.frequent_patterns import apriori, association_rules\n",
        "\n",
        "# Hitung jumlah produk per Order ID\n",
        "basket_df = df.groupby(['Order ID', 'Product Name'])['Quantity'].sum().unstack().fillna(0)\n",
        "\n",
        "# Ubah ke boolean langsung (tanpa .astype(int))\n",
        "basket_df = basket_df.astype(bool)\n",
        "\n",
        "# Coba min_support lebih kecil (misal 0.005 = 0.5%)\n",
        "frequent_items = apriori(basket_df, min_support=0.005, use_colnames=True)\n",
        "\n",
        "# Lihat hasil\n",
        "print(frequent_items.sort_values(by='support', ascending=False).head())\n"
      ],
      "metadata": {
        "colab": {
          "base_uri": "https://localhost:8080/"
        },
        "id": "L1F7BrEwJZ70",
        "outputId": "63a91d33-d7f1-4241-ea14-81703a1ddaf5"
      },
      "execution_count": 5,
      "outputs": [
        {
          "output_type": "stream",
          "name": "stdout",
          "text": [
            "    support   itemsets\n",
            "0  0.008868  (Staples)\n"
          ]
        }
      ]
    },
    {
      "cell_type": "markdown",
      "source": [
        "**Buat Aturan Asosiasi (Association Rules)**"
      ],
      "metadata": {
        "id": "8vBu_80XJz6C"
      }
    },
    {
      "cell_type": "code",
      "source": [
        "rules = association_rules(frequent_items, metric='lift', min_threshold=1)\n",
        "\n",
        "# Tampilkan aturan yang kuat (misalnya confidence >= 0.5 dan lift > 1)\n",
        "strong_rules = rules[(rules['confidence'] >= 0.5) & (rules['lift'] > 1)]\n",
        "\n",
        "# Lihat hasil aturan\n",
        "print(strong_rules[['antecedents', 'consequents', 'support', 'confidence', 'lift']])\n"
      ],
      "metadata": {
        "colab": {
          "base_uri": "https://localhost:8080/"
        },
        "id": "zyKo9CT4J17U",
        "outputId": "941945a9-e801-4de1-b79e-d1d9600b3a9b"
      },
      "execution_count": 6,
      "outputs": [
        {
          "output_type": "stream",
          "name": "stdout",
          "text": [
            "Empty DataFrame\n",
            "Columns: [antecedents, consequents, support, confidence, lift]\n",
            "Index: []\n"
          ]
        }
      ]
    },
    {
      "cell_type": "code",
      "source": [
        "print(\"Jumlah aturan yang ditemukan:\", len(strong_rules))\n",
        "print(strong_rules[['antecedents', 'consequents', 'support', 'confidence', 'lift']].head())\n"
      ],
      "metadata": {
        "colab": {
          "base_uri": "https://localhost:8080/"
        },
        "id": "5E2l4d--J4fU",
        "outputId": "b70bcfa3-2937-42f5-abd8-53182b8b136c"
      },
      "execution_count": 8,
      "outputs": [
        {
          "output_type": "stream",
          "name": "stdout",
          "text": [
            "Jumlah aturan yang ditemukan: 0\n",
            "Empty DataFrame\n",
            "Columns: [antecedents, consequents, support, confidence, lift]\n",
            "Index: []\n"
          ]
        }
      ]
    },
    {
      "cell_type": "code",
      "source": [
        "multi_item_orders = df.groupby('Order ID')['Product Name'].nunique()\n",
        "print(\"Jumlah transaksi dengan >1 produk:\", (multi_item_orders > 1).sum())\n"
      ],
      "metadata": {
        "colab": {
          "base_uri": "https://localhost:8080/"
        },
        "id": "Xf57QdAvKKfT",
        "outputId": "e3901365-1d02-468d-af75-8d9d4570c9ab"
      },
      "execution_count": 9,
      "outputs": [
        {
          "output_type": "stream",
          "name": "stdout",
          "text": [
            "Jumlah transaksi dengan >1 produk: 12771\n"
          ]
        }
      ]
    },
    {
      "cell_type": "code",
      "source": [
        "# Siapkan data basket berdasarkan Sub-Category\n",
        "basket_df = df.groupby(['Order ID', 'Sub-Category'])['Quantity'].sum().unstack().fillna(0)\n",
        "basket_df = basket_df.astype(bool)\n",
        "\n",
        "# Jalankan Apriori dengan min_support kecil\n",
        "from mlxtend.frequent_patterns import apriori, association_rules\n",
        "\n",
        "frequent_items = apriori(basket_df, min_support=0.01, use_colnames=True)\n",
        "\n",
        "# Buat aturan asosiasi\n",
        "rules = association_rules(frequent_items, metric='confidence', min_threshold=0.2)\n",
        "\n",
        "# Filter aturan yang relevan\n",
        "strong_rules = rules[(rules['confidence'] >= 0.2) & (rules['lift'] > 1)]\n",
        "\n",
        "# Lihat hasil\n",
        "print(\"Jumlah aturan ditemukan:\", len(strong_rules))\n",
        "print(strong_rules[['antecedents', 'consequents', 'support', 'confidence', 'lift']])\n"
      ],
      "metadata": {
        "colab": {
          "base_uri": "https://localhost:8080/"
        },
        "id": "xAns33GgKNrS",
        "outputId": "a0553248-f6df-4a77-a7ff-19361a5f6777"
      },
      "execution_count": 11,
      "outputs": [
        {
          "output_type": "stream",
          "name": "stdout",
          "text": [
            "Jumlah aturan ditemukan: 2\n",
            "    antecedents consequents   support  confidence      lift\n",
            "1  (Appliances)   (Binders)  0.015618    0.231910  1.076755\n",
            "5    (Machines)   (Binders)  0.012463    0.219409  1.018715\n"
          ]
        }
      ]
    },
    {
      "cell_type": "markdown",
      "source": [
        "**Tampilkan Sebagai Kalimat Rekomendasi**"
      ],
      "metadata": {
        "id": "xHR-BzTbKfx5"
      }
    },
    {
      "cell_type": "code",
      "source": [
        "for _, row in strong_rules.iterrows():\n",
        "    antecedent = ', '.join(list(row['antecedents']))\n",
        "    consequent = ', '.join(list(row['consequents']))\n",
        "    confidence = row['confidence']\n",
        "    lift = row['lift']\n",
        "\n",
        "    print(f\"🛒 Jika seseorang membeli **{antecedent}**, maka kemungkinan besar juga akan membeli **{consequent}** \"\n",
        "          f\"(confidence: {confidence:.1%}, lift: {lift:.2f})\")\n"
      ],
      "metadata": {
        "colab": {
          "base_uri": "https://localhost:8080/"
        },
        "id": "XyRqG2HYKfYZ",
        "outputId": "e33325e1-703e-4839-9157-b25421281906"
      },
      "execution_count": 12,
      "outputs": [
        {
          "output_type": "stream",
          "name": "stdout",
          "text": [
            "🛒 Jika seseorang membeli **Appliances**, maka kemungkinan besar juga akan membeli **Binders** (confidence: 23.2%, lift: 1.08)\n",
            "🛒 Jika seseorang membeli **Machines**, maka kemungkinan besar juga akan membeli **Binders** (confidence: 21.9%, lift: 1.02)\n"
          ]
        }
      ]
    },
    {
      "cell_type": "code",
      "source": [
        "plt.figure(figsize=(6, 4))\n",
        "scatter = sns.scatterplot(\n",
        "    data=strong_rules,\n",
        "    x='support',\n",
        "    y='confidence',\n",
        "    size='lift',\n",
        "    hue='lift',\n",
        "    palette='coolwarm',\n",
        "    legend=False\n",
        ")\n",
        "\n",
        "# Tambahkan label ke tiap titik\n",
        "for i in range(strong_rules.shape[0]):\n",
        "    antecedent = ', '.join(list(strong_rules.iloc[i]['antecedents']))\n",
        "    consequent = ', '.join(list(strong_rules.iloc[i]['consequents']))\n",
        "    label = f\"{antecedent} → {consequent}\"\n",
        "    plt.text(\n",
        "        x=strong_rules.iloc[i]['support'] + 0.0002,\n",
        "        y=strong_rules.iloc[i]['confidence'],\n",
        "        s=label,\n",
        "        fontsize=8\n",
        "    )\n",
        "\n",
        "plt.title('Visualisasi Aturan Asosiasi Produk')\n",
        "plt.xlabel('Support')\n",
        "plt.ylabel('Confidence')\n",
        "plt.tight_layout()\n",
        "plt.show()\n"
      ],
      "metadata": {
        "colab": {
          "base_uri": "https://localhost:8080/",
          "height": 407
        },
        "id": "H5fCI1NSKspI",
        "outputId": "5ebf8e1c-2030-4e4e-de77-393ed4d29530"
      },
      "execution_count": 14,
      "outputs": [
        {
          "output_type": "display_data",
          "data": {
            "text/plain": [
              "<Figure size 600x400 with 1 Axes>"
            ],
            "image/png": "[encoded data removed]"
          },
          "metadata": {}
        }
      ]
    },
    {
      "cell_type": "code",
      "source": [
        "!pip install networkx\n"
      ],
      "metadata": {
        "colab": {
          "base_uri": "https://localhost:8080/"
        },
        "id": "S5s0vkcKLQrD",
        "outputId": "ff96d4fc-ce37-4899-aa9e-8b041b6b668c"
      },
      "execution_count": 15,
      "outputs": [
        {
          "output_type": "stream",
          "name": "stdout",
          "text": [
            "Requirement already satisfied: networkx in /usr/local/lib/python3.11/dist-packages (3.4.2)\n"
          ]
        }
      ]
    },
    {
      "cell_type": "code",
      "source": [
        "import networkx as nx\n",
        "import matplotlib.pyplot as plt\n",
        "\n",
        "# Siapkan graph kosong\n",
        "G = nx.DiGraph()\n",
        "\n",
        "# Tambahkan edge dari aturan asosiasi\n",
        "for _, row in strong_rules.iterrows():\n",
        "    source = ', '.join(list(row['antecedents']))\n",
        "    target = ', '.join(list(row['consequents']))\n",
        "    confidence = row['confidence']\n",
        "    lift = row['lift']\n",
        "\n",
        "    # Tambahkan edge dengan atribut\n",
        "    G.add_edge(source, target, weight=lift, confidence=confidence)\n",
        "\n",
        "# Atur posisi node (layout)\n",
        "pos = nx.spring_layout(G, k=0.8)\n",
        "\n",
        "# Ukuran edge berdasarkan lift\n",
        "edges = G.edges(data=True)\n",
        "weights = [d['weight'] * 2 for (_, _, d) in edges]\n",
        "\n",
        "# Gambar node dan edge\n",
        "plt.figure(figsize=(10, 6))\n",
        "nx.draw_networkx_nodes(G, pos, node_size=2000, node_color='skyblue')\n",
        "nx.draw_networkx_edges(G, pos, width=weights, arrows=True, edge_color='gray')\n",
        "nx.draw_networkx_labels(G, pos, font_size=10, font_weight='bold')\n",
        "\n",
        "# Tambahkan label edge (confidence)\n",
        "edge_labels = {(u, v): f\"{d['confidence']:.1%}\" for u, v, d in edges}\n",
        "nx.draw_networkx_edge_labels(G, pos, edge_labels=edge_labels, font_color='red')\n",
        "\n",
        "plt.title(\"Network Graph: Aturan Asosiasi Produk\")\n",
        "plt.axis('off')\n",
        "plt.tight_layout()\n",
        "plt.show()\n"
      ],
      "metadata": {
        "colab": {
          "base_uri": "https://localhost:8080/",
          "height": 607
        },
        "id": "VA5XB5N4LWH6",
        "outputId": "dbe5b39a-19cd-4982-da96-293cf14b2f20"
      },
      "execution_count": 16,
      "outputs": [
        {
          "output_type": "display_data",
          "data": {
            "text/plain": [
              "<Figure size 1000x600 with 1 Axes>"
            ],
            "image/png": "[encoded data removed]"
          },
          "metadata": {}
        }
      ]
    },
    {
      "cell_type": "markdown",
      "source": [
        "# Analisis Produk Spesifik"
      ],
      "metadata": {
        "id": "_npIRu6pLnbx"
      }
    },
    {
      "cell_type": "code",
      "source": [
        "target_product = \"Canon Inkjet Printer\"\n",
        "\n",
        "# Cari semua Order ID yang mengandung produk tersebut\n",
        "orders_with_product = df[df['Product Name'] == target_product]['Order ID'].unique()\n",
        "\n",
        "# Ambil semua produk lain dalam order yang sama\n",
        "related_products = df[df['Order ID'].isin(orders_with_product)]\n",
        "\n",
        "# Buang produk target-nya sendiri\n",
        "related_products = related_products[related_products['Product Name'] != target_product]\n",
        "\n"
      ],
      "metadata": {
        "id": "kKajdX0lLZ2P"
      },
      "execution_count": 17,
      "outputs": []
    },
    {
      "cell_type": "code",
      "source": [
        "#Hitung product yang sering dibeli bersama\n",
        "\n",
        "top_related = related_products['Product Name'].value_counts().head(10)\n",
        "print(\"Top 10 produk yang sering dibeli bersama\", target_product)\n",
        "print(top_related)\n"
      ],
      "metadata": {
        "colab": {
          "base_uri": "https://localhost:8080/"
        },
        "id": "uSNzIK7dLrPv",
        "outputId": "1e52ccb5-e983-4b85-9932-1077ca48e801"
      },
      "execution_count": 18,
      "outputs": [
        {
          "output_type": "stream",
          "name": "stdout",
          "text": [
            "Top 10 produk yang sering dibeli bersama Canon Inkjet Printer\n",
            "Series([], Name: count, dtype: int64)\n"
          ]
        }
      ]
    },
    {
      "cell_type": "code",
      "source": [
        "df[df['Product Name'] == \"Canon Inkjet Printer\"]['Order ID'].nunique()\n"
      ],
      "metadata": {
        "colab": {
          "base_uri": "https://localhost:8080/"
        },
        "id": "Fn2P-eeuL2Uh",
        "outputId": "916fffee-e3af-4fbb-d5eb-a60e475cbee5"
      },
      "execution_count": 19,
      "outputs": [
        {
          "output_type": "execute_result",
          "data": {
            "text/plain": [
              "0"
            ]
          },
          "metadata": {},
          "execution_count": 19
        }
      ]
    },
    {
      "cell_type": "code",
      "source": [
        "df['Product Name'].value_counts().head(20)\n"
      ],
      "metadata": {
        "colab": {
          "base_uri": "https://localhost:8080/",
          "height": 743
        },
        "id": "quiFB8prMCqn",
        "outputId": "10f266dc-0dc5-41bc-bf48-d7d488eb0f18"
      },
      "execution_count": 20,
      "outputs": [
        {
          "output_type": "execute_result",
          "data": {
            "text/plain": [
              "Product Name\n",
              "Staples                                         227\n",
              "Cardinal Index Tab, Clear                        92\n",
              "Eldon File Cart, Single Width                    90\n",
              "Rogers File Cart, Single Width                   84\n",
              "Ibico Index Tab, Clear                           83\n",
              "Sanford Pencil Sharpener, Water Color            80\n",
              "Smead File Cart, Single Width                    77\n",
              "Acco Index Tab, Clear                            75\n",
              "Stanley Pencil Sharpener, Water Color            75\n",
              "Avery Index Tab, Clear                           74\n",
              "Tenex File Cart, Single Width                    70\n",
              "Stockwell Paper Clips, Assorted Sizes            65\n",
              "Boston Pencil Sharpener, Water Color             59\n",
              "Binney & Smith Pencil Sharpener, Water Color     55\n",
              "Stockwell Thumb Tacks, 12 Pack                   53\n",
              "Cardinal Binding Machine, Economy                52\n",
              "Wilson Jones 3-Hole Punch, Durable               52\n",
              "Binney & Smith Sketch Pad, Blue                  52\n",
              "Avery Binder Covers, Recycled                    52\n",
              "Apple Smart Phone, Full Size                     51\n",
              "Name: count, dtype: int64"
            ],
            "text/html": [
              "<div>\n",
              "<style scoped>\n",
              "    .dataframe tbody tr th:only-of-type {\n",
              "        vertical-align: middle;\n",
              "    }\n",
              "\n",
              "    .dataframe tbody tr th {\n",
              "        vertical-align: top;\n",
              "    }\n",
              "\n",
              "    .dataframe thead th {\n",
              "        text-align: right;\n",
              "    }\n",
              "</style>\n",
              "<table border=\"1\" class=\"dataframe\">\n",
              "  <thead>\n",
              "    <tr style=\"text-align: right;\">\n",
              "      <th></th>\n",
              "      <th>count</th>\n",
              "    </tr>\n",
              "    <tr>\n",
              "      <th>Product Name</th>\n",
              "      <th></th>\n",
              "    </tr>\n",
              "  </thead>\n",
              "  <tbody>\n",
              "    <tr>\n",
              "      <th>Staples</th>\n",
              "      <td>227</td>\n",
              "    </tr>\n",
              "    <tr>\n",
              "      <th>Cardinal Index Tab, Clear</th>\n",
              "      <td>92</td>\n",
              "    </tr>\n",
              "    <tr>\n",
              "      <th>Eldon File Cart, Single Width</th>\n",
              "      <td>90</td>\n",
              "    </tr>\n",
              "    <tr>\n",
              "      <th>Rogers File Cart, Single Width</th>\n",
              "      <td>84</td>\n",
              "    </tr>\n",
              "    <tr>\n",
              "      <th>Ibico Index Tab, Clear</th>\n",
              "      <td>83</td>\n",
              "    </tr>\n",
              "    <tr>\n",
              "      <th>Sanford Pencil Sharpener, Water Color</th>\n",
              "      <td>80</td>\n",
              "    </tr>\n",
              "    <tr>\n",
              "      <th>Smead File Cart, Single Width</th>\n",
              "      <td>77</td>\n",
              "    </tr>\n",
              "    <tr>\n",
              "      <th>Acco Index Tab, Clear</th>\n",
              "      <td>75</td>\n",
              "    </tr>\n",
              "    <tr>\n",
              "      <th>Stanley Pencil Sharpener, Water Color</th>\n",
              "      <td>75</td>\n",
              "    </tr>\n",
              "    <tr>\n",
              "      <th>Avery Index Tab, Clear</th>\n",
              "      <td>74</td>\n",
              "    </tr>\n",
              "    <tr>\n",
              "      <th>Tenex File Cart, Single Width</th>\n",
              "      <td>70</td>\n",
              "    </tr>\n",
              "    <tr>\n",
              "      <th>Stockwell Paper Clips, Assorted Sizes</th>\n",
              "      <td>65</td>\n",
              "    </tr>\n",
              "    <tr>\n",
              "      <th>Boston Pencil Sharpener, Water Color</th>\n",
              "      <td>59</td>\n",
              "    </tr>\n",
              "    <tr>\n",
              "      <th>Binney &amp; Smith Pencil Sharpener, Water Color</th>\n",
              "      <td>55</td>\n",
              "    </tr>\n",
              "    <tr>\n",
              "      <th>Stockwell Thumb Tacks, 12 Pack</th>\n",
              "      <td>53</td>\n",
              "    </tr>\n",
              "    <tr>\n",
              "      <th>Cardinal Binding Machine, Economy</th>\n",
              "      <td>52</td>\n",
              "    </tr>\n",
              "    <tr>\n",
              "      <th>Wilson Jones 3-Hole Punch, Durable</th>\n",
              "      <td>52</td>\n",
              "    </tr>\n",
              "    <tr>\n",
              "      <th>Binney &amp; Smith Sketch Pad, Blue</th>\n",
              "      <td>52</td>\n",
              "    </tr>\n",
              "    <tr>\n",
              "      <th>Avery Binder Covers, Recycled</th>\n",
              "      <td>52</td>\n",
              "    </tr>\n",
              "    <tr>\n",
              "      <th>Apple Smart Phone, Full Size</th>\n",
              "      <td>51</td>\n",
              "    </tr>\n",
              "  </tbody>\n",
              "</table>\n",
              "</div><br><label><b>dtype:</b> int64</label>"
            ]
          },
          "metadata": {},
          "execution_count": 20
        }
      ]
    },
    {
      "cell_type": "code",
      "source": [
        "target_product = \"Stapler\" #ganti dengan pembelian populer\n",
        "\n",
        "orders_with_product = df[df['Product Name'] == target_product]['Order ID'].unique()\n",
        "related_products = df[df['Order ID'].isin(orders_with_product)]\n",
        "related_products = related_products[related_products['Product Name'] != target_product]\n",
        "\n",
        "top_related = related_products['Product Name'].value_counts().head(10)\n",
        "print(top_related)\n"
      ],
      "metadata": {
        "colab": {
          "base_uri": "https://localhost:8080/"
        },
        "id": "23s0_VnsMJs7",
        "outputId": "1246c263-e9d5-4881-ed43-dfc4ee635b34"
      },
      "execution_count": 21,
      "outputs": [
        {
          "output_type": "stream",
          "name": "stdout",
          "text": [
            "Series([], Name: count, dtype: int64)\n"
          ]
        }
      ]
    },
    {
      "cell_type": "code",
      "source": [
        "top5_products = df['Product Name'].value_counts().head(5).index\n",
        "\n",
        "for product in top5_products:\n",
        "    print(f\"\\n🔍 Produk: {product}\")\n",
        "    orders = df[df['Product Name'] == product]['Order ID'].unique()\n",
        "    related = df[df['Order ID'].isin(orders)]\n",
        "    related = related[related['Product Name'] != product]\n",
        "\n",
        "    related_top = related['Product Name'].value_counts().head(5)\n",
        "    if related_top.empty:\n",
        "        print(\"❌ Tidak ada produk lain yang dibeli bersama.\")\n",
        "    else:\n",
        "        print(related_top)\n"
      ],
      "metadata": {
        "colab": {
          "base_uri": "https://localhost:8080/"
        },
        "id": "7i0_oi8uMdTz",
        "outputId": "5a778d3e-e9e3-4196-cbfd-b23be6905150"
      },
      "execution_count": 22,
      "outputs": [
        {
          "output_type": "stream",
          "name": "stdout",
          "text": [
            "\n",
            "🔍 Produk: Staples\n",
            "Product Name\n",
            "Hon Olson Stacker Chairs                          3\n",
            "KI Adjustable-Height Table                        3\n",
            "Xerox 1916                                        3\n",
            "Hoover Shoulder Vac Commercial Portable Vacuum    3\n",
            "Adjustable Depth Letter/Legal Cart                3\n",
            "Name: count, dtype: int64\n",
            "\n",
            "🔍 Produk: Cardinal Index Tab, Clear\n",
            "Product Name\n",
            "Avery 3-Hole Punch, Clear                     2\n",
            "Harbour Creations Swivel Stool, Adjustable    2\n",
            "Stanley Markers, Fluorescent                  2\n",
            "Memorex Flash Drive, Bluetooth                2\n",
            "Avery Binding Machine, Economy                2\n",
            "Name: count, dtype: int64\n",
            "\n",
            "🔍 Produk: Eldon File Cart, Single Width\n",
            "Product Name\n",
            "Stanley Sketch Pad, Easy-Erase     3\n",
            "Canon Copy Machine, Color          2\n",
            "Avery 3-Hole Punch, Durable        2\n",
            "Sanford Sketch Pad, Fluorescent    2\n",
            "Ibico 3-Hole Punch, Economy        2\n",
            "Name: count, dtype: int64\n",
            "\n",
            "🔍 Produk: Rogers File Cart, Single Width\n",
            "Product Name\n",
            "Stanley Pencil Sharpener, Water Color    3\n",
            "Elite Ruler, Serrated                    3\n",
            "Bush Stackable Bookrack, Pine            2\n",
            "Jiffy Business Envelopes, Recycled       2\n",
            "Rogers Folders, Industrial               2\n",
            "Name: count, dtype: int64\n",
            "\n",
            "🔍 Produk: Ibico Index Tab, Clear\n",
            "Product Name\n",
            "Samsung Signal Booster, with Caller ID    2\n",
            "Boston Pens, Blue                         2\n",
            "Eldon Folders, Industrial                 2\n",
            "Binney & Smith Canvas, Blue               2\n",
            "Stiletto Letter Opener, Easy Grip         2\n",
            "Name: count, dtype: int64\n"
          ]
        }
      ]
    },
    {
      "cell_type": "markdown",
      "source": [
        "#  Sistem Rekomendasi Sederhana (Berbasis Frekuensi Transaksi Bersama)"
      ],
      "metadata": {
        "id": "xzSofzTMM1Gk"
      }
    },
    {
      "cell_type": "code",
      "source": [
        "rekomendasi = {\n",
        "    \"Cardinal Index Tab, Clear\": [\n",
        "        \"Avery 3-Hole Punch, Clear\",\n",
        "        \"Harbour Creations Swivel Stool, Adjustable\",\n",
        "        \"Stanley Markers, Fluorescent\"\n",
        "    ],\n",
        "    \"Eldon File Cart, Single Width\": [\n",
        "        \"Stanley Sketch Pad, Easy-Erase\",\n",
        "        \"Canon Copy Machine, Color\",\n",
        "        \"Avery 3-Hole Punch, Durable\"\n",
        "    ],\n",
        "    \"Rogers File Cart, Single Width\": [\n",
        "        \"Stanley Pencil Sharpener, Water Color\",\n",
        "        \"Elite Ruler, Serrated\",\n",
        "        \"Bush Stackable Bookrack, Pine\"\n",
        "    ],\n",
        "    \"Ibico Index Tab, Clear\": [\n",
        "        \"Samsung Signal Booster, with Caller ID\",\n",
        "        \"Boston Pens, Blue\",\n",
        "        \"Eldon Folders, Industrial\"\n",
        "    ]\n",
        "}\n",
        "\n",
        "for product, rekomendasi_lain in rekomendasi.items():\n",
        "    print(f\"🛍️ Jika pelanggan membeli **{product}**, maka mereka juga sering membeli:\")\n",
        "    for item in rekomendasi_lain:\n",
        "        print(f\"   → {item}\")\n",
        "    print()\n"
      ],
      "metadata": {
        "colab": {
          "base_uri": "https://localhost:8080/"
        },
        "id": "sEJPo5MfM2sC",
        "outputId": "26518692-2dbe-45c0-94bf-2c82782ac75a"
      },
      "execution_count": 23,
      "outputs": [
        {
          "output_type": "stream",
          "name": "stdout",
          "text": [
            "🛍️ Jika pelanggan membeli **Cardinal Index Tab, Clear**, maka mereka juga sering membeli:\n",
            "   → Avery 3-Hole Punch, Clear\n",
            "   → Harbour Creations Swivel Stool, Adjustable\n",
            "   → Stanley Markers, Fluorescent\n",
            "\n",
            "🛍️ Jika pelanggan membeli **Eldon File Cart, Single Width**, maka mereka juga sering membeli:\n",
            "   → Stanley Sketch Pad, Easy-Erase\n",
            "   → Canon Copy Machine, Color\n",
            "   → Avery 3-Hole Punch, Durable\n",
            "\n",
            "🛍️ Jika pelanggan membeli **Rogers File Cart, Single Width**, maka mereka juga sering membeli:\n",
            "   → Stanley Pencil Sharpener, Water Color\n",
            "   → Elite Ruler, Serrated\n",
            "   → Bush Stackable Bookrack, Pine\n",
            "\n",
            "🛍️ Jika pelanggan membeli **Ibico Index Tab, Clear**, maka mereka juga sering membeli:\n",
            "   → Samsung Signal Booster, with Caller ID\n",
            "   → Boston Pens, Blue\n",
            "   → Eldon Folders, Industrial\n",
            "\n"
          ]
        }
      ]
    },
    {
      "cell_type": "code",
      "source": [
        "# Simulasi data hasil analisis sebelumnya (jumlahnya bisa kamu ganti sesuai aslinya)\n",
        "rekomendasi_count = {\n",
        "    \"Cardinal Index Tab, Clear\": {\n",
        "        \"Avery 3-Hole Punch, Clear\": 2,\n",
        "        \"Harbour Creations Swivel Stool, Adjustable\": 2,\n",
        "        \"Stanley Markers, Fluorescent\": 2,\n",
        "        \"Memorex Flash Drive, Bluetooth\": 2,\n",
        "        \"Avery Binding Machine, Economy\": 2\n",
        "    },\n",
        "    \"Eldon File Cart, Single Width\": {\n",
        "        \"Stanley Sketch Pad, Easy-Erase\": 3,\n",
        "        \"Canon Copy Machine, Color\": 2,\n",
        "        \"Avery 3-Hole Punch, Durable\": 2,\n",
        "        \"Sanford Sketch Pad, Fluorescent\": 2,\n",
        "        \"Ibico 3-Hole Punch, Economy\": 2\n",
        "    },\n",
        "    # Tambahkan lainnya sesuai kebutuhan...\n",
        "}\n"
      ],
      "metadata": {
        "id": "aj8xKe1cM6IG"
      },
      "execution_count": 24,
      "outputs": []
    },
    {
      "cell_type": "code",
      "source": [
        "for produk_utama, terkait in rekomendasi_count.items():\n",
        "    plt.figure(figsize=(10, 5))\n",
        "    sns.barplot(\n",
        "        x=list(terkait.values()),\n",
        "        y=list(terkait.keys()),\n",
        "        hue=list(terkait.keys()),\n",
        "        palette=\"crest\",\n",
        "        legend=False\n",
        "    )\n",
        "    plt.title(f\"Top Produk yang Dibeli Bersama '{produk_utama}'\")\n",
        "    plt.xlabel(\"Jumlah Pembelian Bersama\")\n",
        "    plt.ylabel(\"Produk Terkait\")\n",
        "    plt.tight_layout()\n",
        "    plt.show()\n"
      ],
      "metadata": {
        "colab": {
          "base_uri": "https://localhost:8080/",
          "height": 997
        },
        "id": "OCsJwb7JM-SK",
        "outputId": "e3117083-4825-4bb7-ed8e-7714df65703f"
      },
      "execution_count": 26,
      "outputs": [
        {
          "output_type": "display_data",
          "data": {
            "text/plain": [
              "<Figure size 1000x500 with 1 Axes>"
            ],
            "image/png": "[encoded data removed]"
          },
          "metadata": {}
        },
        {
          "output_type": "display_data",
          "data": {
            "text/plain": [
              "<Figure size 1000x500 with 1 Axes>"
            ],
            "image/png": "[encoded data removed]"
          },
          "metadata": {}
        }
      ]
    }
  ]
}