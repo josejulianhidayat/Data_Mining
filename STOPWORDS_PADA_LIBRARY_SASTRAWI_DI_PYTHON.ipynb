{
  "nbformat": 4,
  "nbformat_minor": 0,
  "metadata": {
    "colab": {
      "provenance": [],
      "authorship_tag": "ABX9TyN/xD6qIQY+YRWpgsROadhi",
      "include_colab_link": true
    },
    "kernelspec": {
      "name": "python3",
      "display_name": "Python 3"
    },
    "language_info": {
      "name": "python"
    }
  },
  "cells": [
    {
      "cell_type": "markdown",
      "metadata": {
        "id": "view-in-github",
        "colab_type": "text"
      },
      "source": [
        "<a href=\"https://colab.research.google.com/github/josejulianhidayat/Data_Mining/blob/main/STOPWORDS_PADA_LIBRARY_SASTRAWI_DI_PYTHON.ipynb\" target=\"_parent\"><img src=\"https://colab.research.google.com/assets/colab-badge.svg\" alt=\"Open In Colab\"/></a>"
      ]
    },
    {
      "cell_type": "markdown",
      "source": [
        "# MELIHAT STOPWORDS DALAM LIBRARY SASTRAWI PYTHON"
      ],
      "metadata": {
        "id": "RDVo62jTaQQV"
      }
    },
    {
      "cell_type": "code",
      "execution_count": 6,
      "metadata": {
        "colab": {
          "base_uri": "https://localhost:8080/"
        },
        "id": "1YTXJ-UNYG5V",
        "outputId": "7240b79e-2a1b-4680-971a-81af2f0c27e2"
      },
      "outputs": [
        {
          "output_type": "stream",
          "name": "stdout",
          "text": [
            "      Kolom 1  Kolom 2   Kolom 3     Kolom 4     Kolom 5       Kolom 6\n",
            "0        yang  setelah    mereka      supaya         anu  bagaimanapun\n",
            "1       untuk    belum     sudah        guna    demikian              \n",
            "2        pada     kami      saya         kah        tapi              \n",
            "3          ke  sekitar  terhadap         pun       ingin              \n",
            "4        para     bagi    secara      sampai        juga              \n",
            "5       namun    serta      agar   sedangkan       nggak              \n",
            "6     menurut       di      lain      selagi        mari              \n",
            "7      antara     dari      anda   sementara       nanti              \n",
            "8         dia    telah    begitu      tetapi   melainkan              \n",
            "9         dua  sebagai   mengapa      apakah          oh              \n",
            "10         ia    masih    kenapa     kecuali          ok              \n",
            "11    seperti      hal     yaitu       sebab  seharusnya              \n",
            "12       jika   ketika     yakni      selain  sebetulnya              \n",
            "13       jika   adalah  daripada      seolah      setiap              \n",
            "14   sehingga      itu    itulah      seraya  setidaknya              \n",
            "15    kembali    dalam      lagi  seterusnya     sesuatu              \n",
            "16        dan     bisa      maka       tanpa       pasti              \n",
            "17      tidak    bahwa   tentang        agak        saja              \n",
            "18        ini     atau      demi       boleh         toh              \n",
            "19     karena    hanya    dimana       dapat          ya              \n",
            "20     kepada     kita    kemana         dsb       walau              \n",
            "21       oleh   dengan      pula         dst      tolong              \n",
            "22       saat     akan    sambil         dll       tentu              \n",
            "23      harus     juga   sebelum      dahulu        amat              \n",
            "24  sementara      ada   sesudah     dulunya     apalagi              \n"
          ]
        }
      ],
      "source": [
        "import pandas as pd\n",
        "from Sastrawi.StopWordRemover.StopWordRemoverFactory import StopWordRemoverFactory\n",
        "import math\n",
        "\n",
        "# Ambil daftar stopwords dari Sastrawi\n",
        "factory = StopWordRemoverFactory()\n",
        "stopwords = factory.get_stop_words()\n",
        "\n",
        "# Tentukan jumlah baris per kolom\n",
        "rows_per_column = 25\n",
        "n_rows = len(stopwords)\n",
        "n_columns = math.ceil(n_rows / rows_per_column)\n",
        "\n",
        "# Bagi list stopwords ke dalam beberapa kolom\n",
        "columns = []\n",
        "for i in range(n_columns):\n",
        "    start = i * rows_per_column\n",
        "    end = start + rows_per_column\n",
        "    col = stopwords[start:end]\n",
        "\n",
        "    # Tambahkan padding jika kolom terakhir lebih pendek\n",
        "    col += [''] * (rows_per_column - len(col))\n",
        "    columns.append(col)\n",
        "\n",
        "# Buat DataFrame grid\n",
        "df_grid = pd.DataFrame({f\"Kolom {i+1}\": columns[i] for i in range(n_columns)})\n",
        "\n",
        "# Tampilkan tabel\n",
        "print(df_grid)\n"
      ]
    },
    {
      "cell_type": "markdown",
      "source": [
        "# MENCARI KATA DALAM LIBRARY SASTRAWI DI PYTHON"
      ],
      "metadata": {
        "id": "wGIOhapmaWs_"
      }
    },
    {
      "cell_type": "code",
      "source": [
        "from Sastrawi.StopWordRemover.StopWordRemoverFactory import StopWordRemoverFactory\n",
        "\n",
        "# Inisialisasi stopword factory\n",
        "factory = StopWordRemoverFactory()\n",
        "stopwords = factory.get_stop_words()\n",
        "\n",
        "# Kata yang ingin dicek\n",
        "kata_dicari = \"sudah\"  # ganti dengan kata lain sesuai kebutuhan\n",
        "\n",
        "# Cek apakah termasuk dalam stopwords\n",
        "if kata_dicari in stopwords:\n",
        "    print(f'\"{kata_dicari}\" termasuk dalam daftar stopwords.')\n",
        "else:\n",
        "    print(f'\"{kata_dicari}\" TIDAK termasuk dalam daftar stopwords.')\n"
      ],
      "metadata": {
        "colab": {
          "base_uri": "https://localhost:8080/"
        },
        "id": "Dskl49rSZ7pK",
        "outputId": "f178ab4a-a1c1-45f5-a7f3-e7d0280b515d"
      },
      "execution_count": 10,
      "outputs": [
        {
          "output_type": "stream",
          "name": "stdout",
          "text": [
            "\"sudah\" termasuk dalam daftar stopwords.\n"
          ]
        }
      ]
    }
  ]
}